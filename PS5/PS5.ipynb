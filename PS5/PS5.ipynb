{
 "cells": [
  {
   "cell_type": "markdown",
   "metadata": {},
   "source": [
    "## PS 5\n",
    "\n",
    "Plot experimental sigma from C=1 to 1000000."
   ]
  },
  {
   "cell_type": "code",
   "execution_count": 23,
   "metadata": {
    "collapsed": false
   },
   "outputs": [
    {
     "data": {
      "image/png": "[encoded data removed]",
      "text/plain": [
       "<matplotlib.figure.Figure at 0x257f3d94358>"
      ]
     },
     "metadata": {},
     "output_type": "display_data"
    },
    {
     "name": "stdout",
     "output_type": "stream",
     "text": [
      "2.55404234973e-05\n"
     ]
    }
   ],
   "source": [
    "import numpy as np\n",
    "from numpy.polynomial import Polynomial as P\n",
    "#import plotly\n",
    "#import plotly.plotly as py\n",
    "#import plotly.figure_factory as ff\n",
    "import matplotlib.pyplot as plt\n",
    "#Integrand function\n",
    "def f(x,H):\n",
    "    #return (x-5)*np.exp(-(x/2-3))+H\n",
    "    return np.sin(x)/x +H\n",
    "#Calculates the coefficients of linear weight function.    \n",
    "def findw(f,H,lower,upper,normalize):\n",
    "    #Find the linear function.\n",
    "    slope=(f(upper,H)-f(lower,H))/(upper-lower)\n",
    "    a=slope\n",
    "    b=-slope*upper+f(upper,H)\n",
    "    #Normalization.\n",
    "    A=(a/2)*(upper**2)+b*upper-(a/2)*(lower**2)-b*lower\n",
    "    if normalize:\n",
    "        a/=A\n",
    "        b/=A\n",
    "    return [a,b]\n",
    "#Performs integration.\n",
    "def integrate(f,lower,upper,N,C):\n",
    "    H=C\n",
    "    w=findw(f,H,lower,upper,True)    \n",
    "    #Generate uniform random inputs.\n",
    "    inputs=np.random.rand(N)    \n",
    "    a=w[0]/2  \n",
    "    b=w[1]\n",
    "    c=-(a*lower**2+b*lower)\n",
    "    \n",
    "    SUM=0\n",
    "    SUM2=0\n",
    "    \n",
    "    inverse_inputs=[]\n",
    "    for i in inputs:\n",
    "        p=[(-b-np.sqrt(b**2-4*a*(c-i)))/(2*a),(-b+np.sqrt(b**2-4*a*(c-i)))/(2*a)]\n",
    "        if p[0]>=lower and p[0]<=upper:\n",
    "            inverse_inputs.append(p[0])\n",
    "        else :\n",
    "            inverse_inputs.append(p[1])\n",
    "\n",
    "    inverse_inputs=np.array(inverse_inputs)\n",
    "    #Calculate f(inverse(x))/w(inverse(x)).\n",
    "    outputsF=f(inverse_inputs,H)\n",
    "    outputsW=w[0]*(inverse_inputs)+w[1]\n",
    "    outputs=outputsF/outputsW\n",
    "    SUM=outputs.sum()\n",
    "    SUM2=(outputs*outputs).sum()\n",
    "    var=SUM2/N-(SUM/N)**2\n",
    "    var=var/N\n",
    "    #Store generated points for variance calculation.\n",
    "    Vsum=outputs.sum()\n",
    "    return Vsum/N-H*(upper-lower),(upper-lower)**2*var\n",
    "    \n",
    "sigmas=[]\n",
    "sigma=0\n",
    "I=0\n",
    "l=[4.6,5.2]\n",
    "C=np.arange(0,6,1)\n",
    "for c in C:\n",
    "    I=0\n",
    "    sigma=0\n",
    "    temp_sigmas=[]\n",
    "    temp_results=[]\n",
    "    for i in range (0,len(l)-1):\n",
    "        for p in range (0,100):\n",
    "            temp,temp2=integrate(f,l[i],l[i+1],1000,10**c)\n",
    "            temp_sigmas.append(temp2)\n",
    "            temp_results.append(temp)\n",
    "        sigma+=np.mean(temp_sigmas)\n",
    "        I+=np.mean(temp_results)\n",
    "    sigmas.append(np.sqrt(sigma))\n",
    "\n",
    "plt.plot(C,sigmas,'d')\n",
    "plt.ylabel('Sigma')\n",
    "plt.xlabel('C')\n",
    "z = np.polyfit(C,sigmas,3)\n",
    "p = np.poly1d(z)\n",
    "plt.plot(C,p(C))\n",
    "plt.show()\n",
    "print(np.min(sigmas))\n"
   ]
  },
  {
   "cell_type": "markdown",
   "metadata": {},
   "source": [
    "Plot analytical sigma from C=1 to 1000000."
   ]
  },
  {
   "cell_type": "code",
   "execution_count": 16,
   "metadata": {
    "collapsed": false
   },
   "outputs": [
    {
     "data": {
      "image/png": "[encoded data removed]",
      "text/plain": [
       "<matplotlib.figure.Figure at 0x257f34e8cf8>"
      ]
     },
     "metadata": {},
     "output_type": "display_data"
    },
    {
     "name": "stdout",
     "output_type": "stream",
     "text": [
      "Min value: 2.5603568736e-05\n"
     ]
    }
   ],
   "source": [
    "def theoretical_sigma(f,lower,upper,N,C):\n",
    "    \n",
    "    w=findw(f,C,lower,upper,True) \n",
    "    \n",
    "    flower=f(lower,C)\n",
    "    fmiddle=f((lower+upper)/2,C)\n",
    "    fupper=f(upper,C)\n",
    "    \n",
    "    wlower=w[0]*lower+w[1]\n",
    "    wmiddle=w[0]*(lower+upper)/2+w[1]\n",
    "    wupper=w[0]*upper+w[1]\n",
    "    \n",
    "    gupper=fupper/wupper\n",
    "    gmiddle=fmiddle/wmiddle\n",
    "    glower=flower/wlower    \n",
    "\n",
    "    \n",
    "    sigma=np.abs(0.03727*(upper-lower)**3/np.sqrt(N)*(4*(gupper-2*gmiddle+glower)/(upper-lower)**2))\n",
    "    \n",
    "    \n",
    "    #return (upper-lower)*np.sqrt(var)\n",
    "    return sigma\n",
    "\n",
    "low=4.6\n",
    "high=5.2\n",
    "C=np.arange(0,6,1)\n",
    "sigmas=[]\n",
    "for i in C:\n",
    "    sigmas.append(theoretical_sigma(f,low,high,1000,10**i))\n",
    "    \n",
    "    \n",
    "plt.plot(C,sigmas,'d')\n",
    "plt.ylabel('Sigma')\n",
    "plt.xlabel('C')\n",
    "z = np.polyfit(C,sigmas,3)\n",
    "p = np.poly1d(z)\n",
    "plt.plot(C,p(C))\n",
    "plt.show()\n",
    "\n",
    "#print(theoretical_sigma(f,low,high,1000,int(-f(low,0)/2-f(high,0)/2)))\n",
    "#print(-f(low,0)/2-f(high,0)/2)\n",
    "print(\"Min value:\",np.min(sigmas))\n"
   ]
  },
  {
   "cell_type": "markdown",
   "metadata": {},
   "source": [
    "## Minimum Sigma\n",
    "\n",
    "We found that sigma is proportional to $g(a)+g(b)-2g(\\frac{a+b}{2})$. Taking derivative of this value with respect to C and equating to 0, we get\n",
    "\n",
    "$$\\frac{dg(a)}{dC}+\\frac{dg(b)}{dC}-2\\frac{dg(\\frac{a+b}{2})}{dC}$$ where\n",
    "\n",
    "$$g(x)=\\frac{f(x)+C}{kw}$$.\n",
    "Note that in the previous derivation I denote k.w by simply w for simplification.\n",
    "\n",
    "Also,\n",
    "$$w(x)=f(a)+\\frac{f(b)-f(a)}{b-a}(x-a)+C$$ and \n",
    "$$\\frac{1}{k}=\\frac{\\left(f(b)-f(a)\\right)(b^2-a^2)}{2(b-a)}+\\left(f(b)-b\\frac{f(b)-f(a)}{b-a}+C\\right)(b-a)$$\n",
    "\n",
    "Then,\n",
    "\n",
    "$$g(x)=\\frac{(f(x)+C)\\left(\\frac{(f(b)-f(a))(b^2-a^2)}{2(b-a)}+\\left(f(b)-b\\frac{f(b)-f(a)}{b-a}+C\\right)(b-a)\\right)}{f(a)+\\frac{f(b)-f(a)}{b-a}(x-a)+C}$$\n",
    "\n",
    "From here,\n",
    "\n",
    "$$g(a)=\\frac{(f(b)-f(a)(b^2-a^2)}{2(b-a)}+\\left(f(b)-b\\frac{f(b)-f(a)}{b-a}+C\\right)(b-a)$$\n",
    "\n",
    "$$g(b)=\\frac{(f(b)-f(a)(b^2-a^2)}{2(b-a)}+\\left(f(b)-b\\frac{f(b)-f(a)}{b-a}+C\\right)(b-a)$$\n",
    "\n",
    "$$g(\\frac{a+b}{2})=\\frac{(f(\\frac{a+b}{2})+C)\\left(\\frac{(f(b)-f(a))(b^2-a^2)}{2(b-a)}+\\left(f(b)-b\\frac{f(b)-f(a)}{b-a}+C\\right)(b-a)\\right)}{\\frac{f(a)+f(b)}{2}+C}  $$\n",
    "\n",
    "$$\\frac{dg(a)}{dC}=b-a$$\n",
    "$$\\frac{dg(b)}{dC}=b-a$$\n",
    "\n",
    "It follows that $\\frac{dg(\\frac{a+b}{2})}{dC}$ should be equal to $b-a$.\n",
    "\n",
    "MATLAB gives the following solution,\n",
    "\n",
    "$$C=\\frac{f(a)+f(b)}{-2}$$ \n",
    "with the condition $f(a)+f(b)\\simeq 0$ \n"
   ]
  },
  {
   "cell_type": "code",
   "execution_count": 13,
   "metadata": {
    "collapsed": false
   },
   "outputs": [
    {
     "name": "stdout",
     "output_type": "stream",
     "text": [
      "2.56035687975e-05\n"
     ]
    }
   ],
   "source": [
    "print(theoretical_sigma(f,low,high,1000,int(-f(low,0)/2-f(high,0)/2)))"
   ]
  }
 ],
 "metadata": {
  "kernelspec": {
   "display_name": "Python 3",
   "language": "python",
   "name": "python3"
  },
  "language_info": {
   "codemirror_mode": {
    "name": "ipython",
    "version": 3
   },
   "file_extension": ".py",
   "mimetype": "text/x-python",
   "name": "python",
   "nbconvert_exporter": "python",
   "pygments_lexer": "ipython3",
   "version": "3.6.1"
  }
 },
 "nbformat": 4,
 "nbformat_minor": 2
}
