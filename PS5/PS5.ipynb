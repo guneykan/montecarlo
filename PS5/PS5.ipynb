{
 "cells": [
  {
   "cell_type": "code",
   "execution_count": null,
   "metadata": {
    "collapsed": false
   },
   "outputs": [],
   "source": [
    "import numpy as np\n",
    "from numpy.polynomial import Polynomial as P\n",
    "#import plotly\n",
    "#import plotly.plotly as py\n",
    "#import plotly.figure_factory as ff\n",
    "import matplotlib.pyplot as plt\n",
    "#Integrand function\n",
    "def f(x,H):\n",
    "    #return (x-5)*np.exp(-(x/2-3))+H\n",
    "    return np.sin(x)/x +H\n",
    "#Calculates the coefficients of linear weight function.    \n",
    "def findw(f,H,lower,upper,normalize):\n",
    "    #Find the linear function.\n",
    "    slope=(f(upper,H)-f(lower,H))/(upper-lower)\n",
    "    a=slope\n",
    "    b=-slope*upper+f(upper,H)\n",
    "    #Normalization.\n",
    "    A=(a/2)*(upper**2)+b*upper-(a/2)*(lower**2)-b*lower\n",
    "    if normalize:\n",
    "        a/=A\n",
    "        b/=A\n",
    "    return [a,b]\n",
    "#Performs integration.\n",
    "def integrate(f,lower,upper,N,C):\n",
    "    H=C\n",
    "    w=findw(f,H,lower,upper,True)    \n",
    "    #Generate uniform random inputs.\n",
    "    inputs=np.random.rand(N)    \n",
    "    a=w[0]/2  \n",
    "    b=w[1]\n",
    "    c=-(a*lower**2+b*lower)\n",
    "    \n",
    "    SUM=0\n",
    "    SUM2=0\n",
    "    \n",
    "    inverse_inputs=[]\n",
    "    for i in inputs:\n",
    "        p=[(-b-np.sqrt(b**2-4*a*(c-i)))/(2*a),(-b+np.sqrt(b**2-4*a*(c-i)))/(2*a)]\n",
    "        if p[0]>=lower and p[0]<=upper:\n",
    "            inverse_inputs.append(p[0])\n",
    "        else :\n",
    "            inverse_inputs.append(p[1])\n",
    "\n",
    "    inverse_inputs=np.array(inverse_inputs)\n",
    "    #Calculate f(inverse(x))/w(inverse(x)).\n",
    "    outputsF=f(inverse_inputs,H)\n",
    "    outputsW=w[0]*(inverse_inputs)+w[1]\n",
    "    outputs=outputsF/outputsW\n",
    "    SUM=outputs.sum()\n",
    "    SUM2=(outputs*outputs).sum()\n",
    "    var=SUM2/N-(SUM/N)**2\n",
    "    var=var/N\n",
    "    #Store generated points for variance calculation.\n",
    "    Vsum=outputs.sum()\n",
    "    return Vsum/N-H*(upper-lower),(upper-lower)**2*var\n",
    "    \n",
    "sigmas=[]\n",
    "sigma=0\n",
    "I=0\n",
    "l=[4.6,5.2]\n",
    "C=np.arange(-6,6,1)\n",
    "for c in C:\n",
    "    I=0\n",
    "    sigma=0\n",
    "    temp_sigmas=[]\n",
    "    temp_results=[]\n",
    "    for i in range (0,len(l)-1):\n",
    "        for p in range (0,100):\n",
    "            temp,temp2=integrate(f,l[i],l[i+1],1000,10**c)\n",
    "            temp_sigmas.append(temp2)\n",
    "            temp_results.append(temp)\n",
    "        sigma+=np.mean(temp_sigmas)\n",
    "        I+=np.mean(temp_results)\n",
    "    sigmas.append(np.sqrt(sigma))\n",
    "\n",
    "plt.plot(C,sigmas,'d')\n",
    "plt.ylabel('Sigma')\n",
    "plt.xlabel('C')\n",
    "z = np.polyfit(C,sigmas,3)\n",
    "p = np.poly1d(z)\n",
    "plt.plot(C,p(C))\n",
    "plt.show()\n",
    "print(np.argmin(sigmas))\n"
   ]
  },
  {
   "cell_type": "code",
   "execution_count": 28,
   "metadata": {
    "collapsed": false
   },
   "outputs": [
    {
     "data": {
      "image/png": "[encoded data removed]",
      "text/plain": [
       "<matplotlib.figure.Figure at 0x1d62e176400>"
      ]
     },
     "metadata": {},
     "output_type": "display_data"
    },
    {
     "name": "stdout",
     "output_type": "stream",
     "text": [
      "2.56035687975e-05\n",
      "0.192957454749\n",
      "12 2.56035686331e-05\n"
     ]
    }
   ],
   "source": [
    "def theoretical_sigma(f,lower,upper,N,C):\n",
    "    \n",
    "    w=findw(f,C,lower,upper,True) \n",
    "    \n",
    "    flower=f(lower,C)\n",
    "    fmiddle=f((lower+upper)/2,C)\n",
    "    fupper=f(upper,C)\n",
    "    \n",
    "    wlower=w[0]*lower+w[1]\n",
    "    wmiddle=w[0]*(lower+upper)/2+w[1]\n",
    "    wupper=w[0]*upper+w[1]\n",
    "    \n",
    "    gupper=fupper/wupper\n",
    "    gmiddle=fmiddle/wmiddle\n",
    "    glower=flower/wlower    \n",
    "\n",
    "    \n",
    "    sigma=np.abs(0.03727*(upper-lower)**3/np.sqrt(N)*(4*(gupper-2*gmiddle+glower)/(upper-lower)**2))\n",
    "    \n",
    "    \n",
    "    #return (upper-lower)*np.sqrt(var)\n",
    "    return sigma\n",
    "\n",
    "low=4.6\n",
    "high=5.2\n",
    "C=np.arange(-6,7,1)\n",
    "sigmas=[]\n",
    "for i in C:\n",
    "    sigmas.append(theoretical_sigma(f,low,high,1000,10**i))\n",
    "    \n",
    "    \n",
    "plt.plot(C,sigmas,'d')\n",
    "plt.ylabel('Sigma')\n",
    "plt.xlabel('C')\n",
    "z = np.polyfit(C,sigmas,3)\n",
    "p = np.poly1d(z)\n",
    "plt.plot(C,p(C))\n",
    "plt.show()\n",
    "\n",
    "print(theoretical_sigma(f,low,high,1000,int(-f(low,0)/2-f(high,0)/2)))\n",
    "print(-f(low,0)/2-f(high,0)/2)\n",
    "print(np.argmin(sigmas),np.min(sigmas))\n"
   ]
  },
  {
   "cell_type": "code",
   "execution_count": null,
   "metadata": {
    "collapsed": true
   },
   "outputs": [],
   "source": []
  }
 ],
 "metadata": {
  "kernelspec": {
   "display_name": "Python 3",
   "language": "python",
   "name": "python3"
  },
  "language_info": {
   "codemirror_mode": {
    "name": "ipython",
    "version": 3
   },
   "file_extension": ".py",
   "mimetype": "text/x-python",
   "name": "python",
   "nbconvert_exporter": "python",
   "pygments_lexer": "ipython3",
   "version": "3.6.1"
  }
 },
 "nbformat": 4,
 "nbformat_minor": 2
}
