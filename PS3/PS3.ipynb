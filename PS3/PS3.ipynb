{
 "cells": [
  {
   "cell_type": "markdown",
   "metadata": {},
   "source": [
    "## PS3"
   ]
  },
  {
   "cell_type": "code",
   "execution_count": 155,
   "metadata": {
    "collapsed": false
   },
   "outputs": [
    {
     "name": "stdout",
     "output_type": "stream",
     "text": [
      "[ 0.          3.16395341]\n",
      "[ 1.          2.16395341]\n",
      "0.750087317436\n",
      "[ 0.74023304  3.2909483 ]\n",
      "[ 2.01559067-0.89973972j  2.01559067+0.89973972j]\n",
      "(1.39501301033+0.315708999417j)\n",
      "(1.39501301033+0.315708999417j)\n"
     ]
    }
   ],
   "source": [
    "import numpy as np\n",
    "from numpy.polynomial import Polynomial as P\n",
    "\n",
    "def f(x):\n",
    "    return np.exp(-x**2)\n",
    "    \n",
    "def findw(f,lower,upper):\n",
    "    slope=(f(upper)-f(lower))/upper-lower\n",
    "    A=(slope/2)*(upper**2)-(slope*upper-f(upper))*upper-((slope/2)*(lower**2)-(slope*lower-f(lower))*lower)\n",
    "    return [slope/A, (-slope*upper+f(upper))/A] \n",
    "\n",
    "def integrate(f,w,lower,upper,N):\n",
    "    nlower=P([-lower,w[1],w[0]/2]).roots()\n",
    "    nupper=P([-upper,w[1],w[0]/2]).roots()\n",
    "    print(nlower)\n",
    "    print(nupper)\n",
    "    lower=nlower[0]\n",
    "    upper=nupper[0]\n",
    "    inputs=(upper-lower)*np.random.rand(N)+lower\n",
    "    p= [P([-i,w[1],w[0]/2]) for i in inputs]\n",
    "    inverse_inputs=[]\n",
    "    for i in p:\n",
    "        if i.roots()[0]>=lower and i.roots()[0]<=upper:\n",
    "            inverse_inputs.append(i.roots()[0])\n",
    "        else: \n",
    "            inverse_inputs.append(i.roots()[1])\n",
    "    inverse_inputs=np.array(inverse_inputs)\n",
    "    outputsF=f(inverse_inputs)\n",
    "    outputsW=w[0]*(inverse_inputs)+w[1]\n",
    "    outputs=outputsF/outputsW\n",
    "    return (upper-lower)*outputs.sum()/N  \n",
    "    \n",
    "l=np.arange(0,3,1)    \n",
    "I=0\n",
    "for i in range (0,len(l)-1):\n",
    "    w=findw(f,l[i],l[i+1])\n",
    "    I+=integrate(f,w,l[i],l[i+1],100)\n",
    "    print(I)\n",
    "print(I)"
   ]
  },
  {
   "cell_type": "code",
   "execution_count": null,
   "metadata": {
    "collapsed": true
   },
   "outputs": [],
   "source": []
  }
 ],
 "metadata": {
  "kernelspec": {
   "display_name": "Python 3",
   "language": "python",
   "name": "python3"
  },
  "language_info": {
   "codemirror_mode": {
    "name": "ipython",
    "version": 3
   },
   "file_extension": ".py",
   "mimetype": "text/x-python",
   "name": "python",
   "nbconvert_exporter": "python",
   "pygments_lexer": "ipython3",
   "version": "3.6.0"
  }
 },
 "nbformat": 4,
 "nbformat_minor": 2
}
