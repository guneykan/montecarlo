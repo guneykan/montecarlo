{
 "cells": [
  {
   "cell_type": "markdown",
   "metadata": {},
   "source": [
    "## PS3\n",
    "\n",
    "In problem set 1, we illustrated how to perform integration using Monte Carlo Methods. We also showed how to smooth out the function involving sharp peaks by utilizing a predefined weight function to decrease the standard deviation.\n",
    "In this notebook, we are trying to minimize the variance of the integration further by dividing the integration domain into 10 equal pieces and perform integration for each interval seperately.\n",
    "\n",
    "To illustrate the idea, we used the following integral\n",
    "\n",
    "$$\\int_{2}^{10}(x-5)\\cdot e^{-(\\frac{x}{2}-3)}dx$$\n",
    "\n",
    "For each interval we used linear weight functions ${w_1,w_2,..,w_{10}}$ where $w_i$ is the weight function for i'th interval. We also have the following normalization,\n",
    "\n",
    "$$\\int_{x_{i-1}}^{x_i} w_i(x)dx=1$$ and following boundary conditions,\n",
    "\n",
    "$$w(x_{i-1})=f(x_{i-1})\\text{ }\\text{ and }\\text{ } w(x_{i})=f(x_{i}) $$\n",
    "\n",
    "\n",
    "Then the final integral can be calculated as\n",
    "\n",
    "$$I_{Total}=\\sum_{i=1}^{10} I_i$$\n",
    "where \n",
    "$$I_i=\\int_{x_{i-1}}^{x_i} f(x)dx$$\n",
    "\n",
    "and this integral is to be calculated using our standard MC integration method using $w_i(x)$ as the weight function.\n",
    "\n",
    "\n",
    "\n",
    "\n",
    "Following code snippet illustrates the described method."
   ]
  },
  {
   "cell_type": "code",
   "execution_count": 42,
   "metadata": {
    "collapsed": false,
    "scrolled": true
   },
   "outputs": [
    {
     "name": "stdout",
     "output_type": "stream",
     "text": [
      "100 -17.3137004949 -0.640900494879 1.31730988198 -0.486522194698\n",
      "1000 -16.2364297575 0.436370242492 0.452189910195 0.965015434121\n",
      "10000 -16.4574275098 0.215372490167 0.143298139305 1.50296780692\n",
      "100000 -16.6681057488 0.00469425115728 0.0452890031845 0.103651015196\n",
      "1000000 -16.6797431577 -0.00694315766895 0.0142892987237 -0.485899119559\n",
      "10000000 -16.6720289166 0.000771083435442 0.00451800941559 0.170668842075\n"
     ]
    }
   ],
   "source": [
    "import numpy as np\n",
    "from numpy.polynomial import Polynomial as P\n",
    "import plotly\n",
    "import plotly.plotly as py\n",
    "import plotly.figure_factory as ff\n",
    "\n",
    "H=0\n",
    "#Integrand function\n",
    "def f(x):\n",
    "    return (x-5)*np.exp(-(x/2-3))+H\n",
    "    \n",
    "#Calculates the coefficients of linear weight function.    \n",
    "def findw(f,lower,upper):\n",
    "    #Find the linear function.\n",
    "    slope=(f(upper)-f(lower))/upper-lower\n",
    "    a=slope\n",
    "    b=-slope*upper+f(upper)\n",
    "    #Normalization.\n",
    "    A=(a/2)*(upper**2)+b*upper-(a/2)*(lower**2)-b*lower\n",
    "    a/=A\n",
    "    b/=A\n",
    "    return [a,b] \n",
    "\n",
    "#Performs integration.\n",
    "def integrate(f,w,lower,upper,N):\n",
    "    #Generate uniform random inputs.\n",
    "    inputs=np.random.rand(N)\n",
    "    \n",
    "    a=w[0]/2  \n",
    "    b=w[1]\n",
    "    c=-(a*lower**2+b*lower)\n",
    "    \n",
    "    SUM=0\n",
    "    SUM2=0\n",
    "    \n",
    "    inverse_inputs=[]\n",
    "    H=30\n",
    "    for i in inputs:\n",
    "        p=[(-b-np.sqrt(b**2-4*a*(c-i)))/(2*a),(-b+np.sqrt(b**2-4*a*(c-i)))/(2*a)]\n",
    "        if p[0]>=lower and p[0]<=upper:\n",
    "            inverse_inputs.append(p[0])\n",
    "        else :\n",
    "            inverse_inputs.append(p[1])\n",
    "\n",
    "    inverse_inputs=np.array(inverse_inputs)\n",
    "    #Calculate f(inverse(x))/w(inverse(x)).\n",
    "    outputsF=f(inverse_inputs)\n",
    "    outputsW=w[0]*(inverse_inputs)+w[1]\n",
    "    outputs=outputsF/outputsW\n",
    "    SUM=outputs.sum()\n",
    "    SUM2=(outputs*outputs).sum()\n",
    "    var=SUM2/N-(SUM/N)**2\n",
    "    var=var/N\n",
    "    #Store generated points for variance calculation.\n",
    "    Vsum=outputs.sum()\n",
    "    return Vsum/N,var\n",
    "    \n",
    "#Divide the region into 10 pieces.\n",
    "l=np.arange(2,10.01,0.8)   \n",
    "#Real value of the integral\n",
    "I_real=-16.6728\n",
    "#N values\n",
    "N=[10,100,1000,10000,100000,1000000]\n",
    "#Integration results.\n",
    "results=[]\n",
    "#All generated points.\n",
    "points=[]\n",
    "#Standart deviation values\n",
    "sigmas=[]\n",
    "for k in N:\n",
    "    I=0\n",
    "    sigma=0\n",
    "    for i in range (0,len(l)-1):\n",
    "        H=50\n",
    "        w=findw(f,l[i],l[i+1])\n",
    "        temp,temp2=integrate(f,w,l[i],l[i+1],k)\n",
    "        I+=temp\n",
    "        sigma+=temp2\n",
    "    I=I-H*8\n",
    "    results.append(I)\n",
    "    sigmas.append(np.sqrt(sigma))\n",
    "    print(10*k,I,I-I_real,np.sqrt(sigma),(I-I_real)/np.sqrt(sigma))\n",
    "  \n"
   ]
  },
  {
   "cell_type": "code",
   "execution_count": 43,
   "metadata": {
    "collapsed": false
   },
   "outputs": [
    {
     "data": {
      "text/html": [
       "<iframe id=\"igraph\" scrolling=\"no\" style=\"border:none;\" seamless=\"seamless\" src=\"https://plot.ly/~guneykan/44.embed\" height=\"260px\" width=\"100%\"></iframe>"
      ],
      "text/plain": [
       "<plotly.tools.PlotlyDisplay object>"
      ]
     },
     "execution_count": 43,
     "metadata": {},
     "output_type": "execute_result"
    }
   ],
   "source": [
    "data_matrix = [[\"N\", \"I MC\", \"I Real\", \"I MC-I Real\",\"sigma\",\"I MC-I Real/sigma\"]]\n",
    "for i in range (0,len(N)):\n",
    "    element=[10*N[i], results[i], I_real,results[i]-I_real,sigmas[i],(results[i]-I_real)/sigmas[i]]\n",
    "    data_matrix.append(element)\n",
    "    \n",
    "plotly.tools.set_credentials_file(username='guneykan', api_key='Yu3MsgD6Zlfbb0B3S5Mx')\n",
    "table = ff.create_table(data_matrix)\n",
    "py.iplot(table)"
   ]
  },
  {
   "cell_type": "code",
   "execution_count": null,
   "metadata": {
    "collapsed": true
   },
   "outputs": [],
   "source": []
  }
 ],
 "metadata": {
  "kernelspec": {
   "display_name": "Python 3",
   "language": "python",
   "name": "python3"
  },
  "language_info": {
   "codemirror_mode": {
    "name": "ipython",
    "version": 3
   },
   "file_extension": ".py",
   "mimetype": "text/x-python",
   "name": "python",
   "nbconvert_exporter": "python",
   "pygments_lexer": "ipython3",
   "version": "3.6.0"
  }
 },
 "nbformat": 4,
 "nbformat_minor": 2
}
