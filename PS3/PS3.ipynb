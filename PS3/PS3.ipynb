{
 "cells": [
  {
   "cell_type": "markdown",
   "metadata": {},
   "source": [
    "## PS3"
   ]
  },
  {
   "cell_type": "code",
   "execution_count": 16,
   "metadata": {
    "collapsed": false
   },
   "outputs": [
    {
     "data": {
      "text/html": [
       "<iframe id=\"igraph\" scrolling=\"no\" style=\"border:none;\" seamless=\"seamless\" src=\"https://plot.ly/~guneykan/12.embed\" height=\"200px\" width=\"100%\"></iframe>"
      ],
      "text/plain": [
       "<plotly.tools.PlotlyDisplay object>"
      ]
     },
     "execution_count": 16,
     "metadata": {},
     "output_type": "execute_result"
    }
   ],
   "source": [
    "import numpy as np\n",
    "from numpy.polynomial import Polynomial as P\n",
    "import plotly\n",
    "import plotly.plotly as py\n",
    "import plotly.figure_factory as ff\n",
    "\n",
    "\n",
    "\n",
    "def f(x):\n",
    "    return (x-5)*np.exp(-(x/2-3))+10\n",
    "    \n",
    "def findw(f,lower,upper):\n",
    "    slope=(f(upper)-f(lower))/upper-lower\n",
    "    A=(slope/2)*(upper**2)-(slope*upper-f(upper))*upper-((slope/2)*(lower**2)-(slope*upper-f(upper))*lower)\n",
    "    A/=(upper-lower)\n",
    "    return [slope/A, (-slope*upper+f(upper))/A] \n",
    "\n",
    "def integrate(f,w,lower,upper,N):\n",
    "    \n",
    "    inputs=(upper-lower)*np.random.rand(N)+lower\n",
    "    C=lower-((w[0]/2)*lower**2+w[1]*lower)\n",
    "    p= [P([-i+C,w[1],w[0]/2]) for i in inputs]\n",
    "    inverse_inputs=[]\n",
    "    for i in p:\n",
    "        if i.roots()[0]>=lower and i.roots()[0]<=upper:\n",
    "            inverse_inputs.append(i.roots()[0])\n",
    "        else: \n",
    "            inverse_inputs.append(i.roots()[1])\n",
    "    inverse_inputs=np.array(inverse_inputs)\n",
    "    outputsF=f(inverse_inputs)\n",
    "    outputsW=w[0]*(inverse_inputs)+w[1]\n",
    "    outputs=outputsF/outputsW\n",
    "    FSUM2=(outputs**2).sum()\n",
    "    var=(1/N)*(FSUM2/N-(outputs.sum()/N)**2)\n",
    "    return (upper-lower)*outputs.sum()/N , var\n",
    "    \n",
    "l=np.arange(2,10.01,0.8)   \n",
    "#print(l)\n",
    "I_real=-16.673\n",
    "N=[10,100,1000,10000]\n",
    "results=[]\n",
    "sigmas=[]\n",
    "for k in N:\n",
    "    I=0\n",
    "    for i in range (0,len(l)-1):\n",
    "        w=findw(f,l[i],l[i+1])\n",
    "        temp,temp2=integrate(f,w,l[i],l[i+1],k)\n",
    "        I+=temp\n",
    "        sigma+=temp2\n",
    "    I=I-80\n",
    "    results.append(I)\n",
    "    sigmas.append(sigma)\n",
    "    \n",
    "data_matrix = [[\"N\", \"I MC\", \"I Real\", \"I MC-I Real\",\"sigma\"],\n",
    "               [\"100\", results[0], I_real,results[0]-I_real,sigmas[0]],\n",
    "               [\"1000\", results[1], I_real,results[1]-I_real,sigmas[1]],\n",
    "               [\"10000\", results[2], I_real,results[2]-I_real,sigmas[2]],\n",
    "               [\"100000\", results[3], I_real,results[3]-I_real,sigmas[3]]]\n",
    "plotly.tools.set_credentials_file(username='guneykan', api_key='Yu3MsgD6Zlfbb0B3S5Mx')\n",
    "table = ff.create_table(data_matrix)\n",
    "py.iplot(table)"
   ]
  },
  {
   "cell_type": "code",
   "execution_count": null,
   "metadata": {
    "collapsed": true
   },
   "outputs": [],
   "source": []
  }
 ],
 "metadata": {
  "kernelspec": {
   "display_name": "Python 3",
   "language": "python",
   "name": "python3"
  },
  "language_info": {
   "codemirror_mode": {
    "name": "ipython",
    "version": 3
   },
   "file_extension": ".py",
   "mimetype": "text/x-python",
   "name": "python",
   "nbconvert_exporter": "python",
   "pygments_lexer": "ipython3",
   "version": "3.6.0"
  }
 },
 "nbformat": 4,
 "nbformat_minor": 2
}
