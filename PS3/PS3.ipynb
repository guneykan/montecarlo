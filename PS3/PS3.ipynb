{
 "cells": [
  {
   "cell_type": "markdown",
   "metadata": {},
   "source": [
    "## PS3\n",
    "\n",
    "In problem set 1, we illustrated how to perform integration using Monte Carlo Methods. We also showed how to smooth out the function involving sharp peaks by utilizing a predefined weight function to decrease the standard deviation.\n",
    "In this notebook, we are trying to minimize the variance of the integration further by dividing the integration domain into 10 equal pieces and perform integration for each interval seperately.\n",
    "\n",
    "To illustrate the idea, we used the following integral\n",
    "\n",
    "$$\\int_{2}^{10}(x-5)\\cdot e^{-(\\frac{x}{2}-3)}dx$$\n",
    "\n",
    "For each interval we used linear weight functions ${w_1,w_2,..,w_{10}}$ where $w_i$ is the weight function for i'th interval. We also have the following normalization,\n",
    "\n",
    "$$\\int_{x_{i-1}}^{x_i} w_i(x)dx=x_i-x_{i-1}$$ and following boundary conditions,\n",
    "\n",
    "$$w(x_{i-1})=f(x_{i-1})\\text{ }\\text{ and }\\text{ } w(x_{i})=f(x_{i}) $$\n",
    "\n",
    "\n",
    "Then the final integral can be calculated as\n",
    "\n",
    "$$I_{Total}=\\sum_{i=1}^{10} I_i$$\n",
    "where \n",
    "$$I_i=\\int_{x_{i-1}}^{x_i} f(x)dx$$\n",
    "\n",
    "and this integral is to be calculated using our standard MC integration method using $w_i(x)$ as the weight function.\n",
    "\n",
    "\n",
    "\n",
    "\n",
    "Following code snippet illustrates the described method."
   ]
  },
  {
   "cell_type": "code",
   "execution_count": 8,
   "metadata": {
    "collapsed": false
   },
   "outputs": [
    {
     "name": "stdout",
     "output_type": "stream",
     "text": [
      "100 -17.9368203546 -1.26382035458 1.80025702265 -0.702022177213\n",
      "1000 -16.6083170563 0.0646829437471 0.558323998322 0.115851985481\n",
      "5000 -16.6435324663 0.0294675337124 0.252617729847 0.116648715552\n",
      "10000 -16.4562308065 0.216769193529 0.17899511069 1.21103416006\n",
      "100000 -16.7051932257 -0.0321932256809 0.0566317592838 -0.568465929508\n"
     ]
    }
   ],
   "source": [
    "import numpy as np\n",
    "from numpy.polynomial import Polynomial as P\n",
    "import plotly\n",
    "import plotly.plotly as py\n",
    "import plotly.figure_factory as ff\n",
    "\n",
    "\n",
    "#Integrand function\n",
    "def f(x):\n",
    "    return (x-5)*np.exp(-(x/2-3))+10\n",
    "    \n",
    "#Calculates the coefficients of linear weight function.    \n",
    "def findw(f,lower,upper):\n",
    "    #Find the linear function.\n",
    "    slope=(f(upper)-f(lower))/upper-lower\n",
    "    #Normalization.\n",
    "    A=(slope/2)*(upper**2)-(slope*upper-f(upper))*upper-((slope/2)*(lower**2)-(slope*upper-f(upper))*lower)\n",
    "    A/=(upper-lower)\n",
    "    return [slope/A, (-slope*upper+f(upper))/A] \n",
    "\n",
    "#Performs integration.\n",
    "def integrate(f,w,lower,upper,N):\n",
    "    #Generate uniform random inputs.\n",
    "    inputs=(upper-lower)*np.random.rand(N)+lower\n",
    "    #Calculate integration constant using boundary conditions.\n",
    "    C=lower-((w[0]/2)*lower**2+w[1]*lower)\n",
    "    #Find the inverse X.\n",
    "    p= [P([-i+C,w[1],w[0]/2]) for i in inputs]\n",
    "    inverse_inputs=[]\n",
    "    for i in p:\n",
    "        if i.roots()[0]>=lower and i.roots()[0]<=upper:\n",
    "            inverse_inputs.append(i.roots()[0])\n",
    "        else: \n",
    "            inverse_inputs.append(i.roots()[1])\n",
    "    inverse_inputs=np.array(inverse_inputs)\n",
    "    #Calculate f(inverse(x))/w(inverse(x)).\n",
    "    outputsF=f(inverse_inputs)\n",
    "    outputsW=w[0]*(inverse_inputs)+w[1]\n",
    "    outputs=outputsF/outputsW\n",
    "    #Store generated points for variance calculation.\n",
    "    Vsum=outputs.sum()\n",
    "    return (upper-lower)*Vsum/N , outputsF-10/outputsW\n",
    "\n",
    "#Divide the region into 10 pieces.\n",
    "l=np.arange(2,10.01,0.8)   \n",
    "#Real value of the integral\n",
    "I_real=-16.673\n",
    "#N values\n",
    "N=[10,100,500,1000,10000]\n",
    "#Integration results.\n",
    "results=[]\n",
    "#All generated points.\n",
    "points=[]\n",
    "#Standart deviation values\n",
    "sigmas=[]\n",
    "for k in N:\n",
    "    I=0\n",
    "    for i in range (0,len(l)-1):\n",
    "        w=findw(f,l[i],l[i+1])\n",
    "        temp,temp2=integrate(f,w,l[i],l[i+1],k)\n",
    "        I+=temp\n",
    "        points=np.concatenate((points,temp2))\n",
    "    var=np.var(points)/k\n",
    "    I=I-80\n",
    "    results.append(I)\n",
    "    sigmas.append(np.sqrt(var))\n",
    "    print(10*k,I,I-I_real,np.sqrt(var),(I-I_real)/np.sqrt(var))\n",
    "  \n"
   ]
  },
  {
   "cell_type": "code",
   "execution_count": 9,
   "metadata": {
    "collapsed": false
   },
   "outputs": [
    {
     "data": {
      "text/html": [
       "<iframe id=\"igraph\" scrolling=\"no\" style=\"border:none;\" seamless=\"seamless\" src=\"https://plot.ly/~guneykan/26.embed\" height=\"230px\" width=\"100%\"></iframe>"
      ],
      "text/plain": [
       "<plotly.tools.PlotlyDisplay object>"
      ]
     },
     "execution_count": 9,
     "metadata": {},
     "output_type": "execute_result"
    }
   ],
   "source": [
    "data_matrix = [[\"N\", \"I MC\", \"I Real\", \"I MC-I Real\",\"sigma\",\"I MC-I Real/sigma\"],\n",
    "            [\"100\", results[0], I_real,results[0]-I_real,sigmas[0],(I-I_real)/sigmas[0]],\n",
    "            [\"1000\", results[1], I_real,results[1]-I_real,sigmas[1],(I-I_real)/sigmas[1]],\n",
    "               [\"5000\", results[2], I_real,results[2]-I_real,sigmas[2],(I-I_real)/sigmas[2]],\n",
    "               [\"10000\", results[3], I_real,results[3]-I_real,sigmas[3],(I-I_real)/sigmas[3]],\n",
    "               [\"100000\", results[4], I_real,results[4]-I_real,sigmas[4],(I-I_real)/sigmas[4]]]\n",
    "plotly.tools.set_credentials_file(username='guneykan', api_key='Yu3MsgD6Zlfbb0B3S5Mx')\n",
    "table = ff.create_table(data_matrix)\n",
    "py.iplot(table)"
   ]
  }
 ],
 "metadata": {
  "kernelspec": {
   "display_name": "Python 3",
   "language": "python",
   "name": "python3"
  },
  "language_info": {
   "codemirror_mode": {
    "name": "ipython",
    "version": 3
   },
   "file_extension": ".py",
   "mimetype": "text/x-python",
   "name": "python",
   "nbconvert_exporter": "python",
   "pygments_lexer": "ipython3",
   "version": "3.6.0"
  }
 },
 "nbformat": 4,
 "nbformat_minor": 2
}
