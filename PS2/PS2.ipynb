{
 "cells": [
  {
   "cell_type": "markdown",
   "metadata": {
    "collapsed": true
   },
   "source": [
    "### Question 1\n",
    "\n",
    "To be able to hit the circular plate uniformly we must calculate $P(\\theta)d\\theta$. In polar coordinates area alement is given by $dA=r dr d\\phi$. From geometry, it is obvious that $r=d\\tan \\theta$, hence $dr=d(1+\\tan^2 \\theta )d\\theta$. Since the points will be distributed uniformly, we can write down \n",
    "\n",
    "\n",
    "$$P(\\theta,\\phi)d\\theta d\\phi=\\frac{d^2\\tan \\theta(1+\\tan^2 \\theta)d\\theta d\\phi}{\\pi R^2}$$\n",
    "where R is the radius of the circular plate.\n",
    "\n",
    "\n",
    "$$P(\\theta,\\phi)d\\theta d\\phi=\\frac{\\tan \\theta(1+\\tan^2 \\theta)d\\theta d\\phi}{\\pi \\tan^2 \\theta _{max}}$$\n",
    "\n",
    "\n",
    "Since we are only interested in distribution of $\\theta$ we should integrate this over $\\phi$.\n",
    "\n",
    "\n",
    "$$P(\\theta)d\\theta=\\int_{\\phi=0}^{\\phi=2\\pi} \\frac{\\tan \\theta(1+\\tan^2 \\theta)d\\theta d\\phi}{\\pi \\tan^2 \\theta _{max}}$$\n",
    "\n",
    "\n",
    "Finally we obtain,\n",
    "\n",
    "\n",
    "$$P(\\theta)d\\theta=\\frac{2\\tan \\theta(1+\\tan^2 \\theta)d\\theta}{ \\tan^2 \\theta _{max}}$$\n",
    "\n",
    "To find suitable $f(x)$ to generate desired distribution, first we need cumulative probability function.\n",
    "\n",
    "$$F(\\theta<\\theta_0)=\\int_{0}^{\\theta_0}\\frac{2\\tan \\theta(1+\\tan^2 \\theta)d\\theta}{ \\tan^2 \\theta _{max}}$$\n",
    "$$=\\frac{\\tan^2 \\theta_0}{\\tan^2 \\theta _{max}} $$\n",
    "\n",
    "To find $f(x)$ we should invert this cumulative distribution function.\n",
    "\n",
    "We obtain $f(x)= \\arctan (\\tan \\theta _{max} \\sqrt x)$. Then we can pick uniform $x$ values and calculate $\\theta$ values.\n",
    "\n"
   ]
  },
  {
   "cell_type": "code",
   "execution_count": 4,
   "metadata": {
    "collapsed": false
   },
   "outputs": [
    {
     "name": "stdout",
     "output_type": "stream",
     "text": [
      "1.56079666011\n",
      "-1.7098465429\n"
     ]
    },
    {
     "data": {
      "text/plain": [
       "[<matplotlib.lines.Line2D at 0x1da4fa549e8>]"
      ]
     },
     "execution_count": 4,
     "metadata": {},
     "output_type": "execute_result"
    },
    {
     "data": {
      "image/png": "[encoded data removed]",
      "text/plain": [
       "<matplotlib.figure.Figure at 0x1da4fa54a58>"
      ]
     },
     "metadata": {},
     "output_type": "display_data"
    }
   ],
   "source": [
    "%matplotlib inline\n",
    "import numpy as np\n",
    "import matplotlib.pyplot as plt\n",
    "import math\n",
    "\n",
    "N=5000\n",
    "phi=2*math.pi*np.random.rand(N)\n",
    "r=np.random.rand(N)\n",
    "theta=np.arctan(100*np.sqrt(r))\n",
    "                \n",
    "x=0.01*np.tan(theta)*np.cos(phi)\n",
    "y=0.01*np.tan(theta)*np.sin(phi)\n",
    "                \n",
    "print(np.arctan(100))\n",
    "print(np.tan(2.1))\n",
    "plt.axis('equal')\n",
    "plt.plot(x,y,',r')\n"
   ]
  },
  {
   "cell_type": "markdown",
   "metadata": {
    "collapsed": true
   },
   "source": [
    "As seen from above figure, the points are approximately distributed uniformly."
   ]
  }
 ],
 "metadata": {
  "kernelspec": {
   "display_name": "Python 3",
   "language": "python",
   "name": "python3"
  },
  "language_info": {
   "codemirror_mode": {
    "name": "ipython",
    "version": 3
   },
   "file_extension": ".py",
   "mimetype": "text/x-python",
   "name": "python",
   "nbconvert_exporter": "python",
   "pygments_lexer": "ipython3",
   "version": "3.6.1"
  }
 },
 "nbformat": 4,
 "nbformat_minor": 2
}
